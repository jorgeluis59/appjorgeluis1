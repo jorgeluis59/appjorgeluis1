{
 "cells": [
  {
   "cell_type": "code",
   "execution_count": 2,
   "id": "b87ef369-a7da-4e4d-b5ed-624ee84dc587",
   "metadata": {},
   "outputs": [
    {
     "name": "stdout",
     "output_type": "stream",
     "text": [
      "Aplicación by Jorge Luis\n",
      "Ford Motor Company F\n",
      "13.05\n",
      "\n",
      "Facebook FB\n",
      "380.66\n"
     ]
    }
   ],
   "source": [
    "import requests\n",
    "from bs4 import BeautifulSoup\n",
    "\n",
    "#Entrega final Tarea 1 - Jorge Luis\n",
    "#Aplicación con EndPoint que consulta datos de Yahoo Finance - las cotizaciones\n",
    "# en bolsa de la empresa Ford y Facebook\n",
    "\n",
    "link_ford='https://finance.yahoo.com/quote/F/financials?p=F'\n",
    "link_facebook='https://finance.yahoo.com/quote/FB?p=FB&.tsrc=fin-srch'\n",
    "headers={'User-Agent':'Mozilla/5.0 (Windows NT 10.0; Win64; x64) AppleWebKit/537.36 (KHTML, like Gecko) Chrome/71.0.3578.98 Safari/537.36'}\n",
    "rford=requests.get(link_ford,headers=headers)\n",
    "rfacebook=requests.get(link_facebook,headers=headers)\n",
    "\n",
    "\n",
    "soupford=BeautifulSoup(rford.text,'lxml')\n",
    "soupfacebook=BeautifulSoup(rfacebook.text,'lxml')\n",
    "ford=soupford.find('span',class_='Trsdu(0.3s) Fw(b) Fz(36px) Mb(-4px) D(ib)').text.strip()\n",
    "facebook=soupfacebook.find('span',class_='Trsdu(0.3s) Fw(b) Fz(36px) Mb(-4px) D(ib)').text.strip()\n",
    "print('Aplicación by Jorge Luis')\n",
    "print('Ford Motor Company F')\n",
    "print(ford)\n",
    "print(\"\")\n",
    "\n",
    "print('Facebook FB')\n",
    "print(facebook)\n",
    "\n"
   ]
  },
  {
   "cell_type": "code",
   "execution_count": null,
   "id": "2398f48a-14bc-445c-90ad-3b346614f3e6",
   "metadata": {},
   "outputs": [],
   "source": []
  }
 ],
 "metadata": {
  "kernelspec": {
   "display_name": "Python 3 (ipykernel)",
   "language": "python",
   "name": "python3"
  },
  "language_info": {
   "codemirror_mode": {
    "name": "ipython",
    "version": 3
   },
   "file_extension": ".py",
   "mimetype": "text/x-python",
   "name": "python",
   "nbconvert_exporter": "python",
   "pygments_lexer": "ipython3",
   "version": "3.9.5"
  }
 },
 "nbformat": 4,
 "nbformat_minor": 5
}
